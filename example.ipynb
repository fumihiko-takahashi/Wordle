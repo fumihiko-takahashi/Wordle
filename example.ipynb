{
 "cells": [
  {
   "cell_type": "code",
   "execution_count": 1,
   "metadata": {},
   "outputs": [],
   "source": [
    "import json\n",
    "import random\n",
    "\n",
    "from Wordle import GameMaster, SimpleSolver, WordleUtil"
   ]
  },
  {
   "cell_type": "code",
   "execution_count": 2,
   "metadata": {},
   "outputs": [],
   "source": [
    "def load_word_list(path: str):\n",
    "    with open(path) as fp:\n",
    "        word_list = json.load(fp)\n",
    "    return word_list\n",
    "words = load_word_list(\"./words.json\")"
   ]
  },
  {
   "cell_type": "markdown",
   "metadata": {},
   "source": [
    "# 手動で解く"
   ]
  },
  {
   "cell_type": "code",
   "execution_count": 3,
   "metadata": {},
   "outputs": [
    {
     "data": {
      "text/plain": [
       "['arval',\n",
       " 'uraos',\n",
       " 'archi',\n",
       " 'glair',\n",
       " 'gruff',\n",
       " 'dorks',\n",
       " 'roofs',\n",
       " 'rocks',\n",
       " 'goris',\n",
       " 'krubi']"
      ]
     },
     "execution_count": 3,
     "metadata": {},
     "output_type": "execute_result"
    }
   ],
   "source": [
    "word = \"entry\"\n",
    "hint = \"22212\"\n",
    "\n",
    "pattern = WordleUtil.hint2pattern(word, hint)\n",
    "candidates = WordleUtil.search(words, pattern)\n",
    "random.sample(candidates, 10)"
   ]
  },
  {
   "cell_type": "markdown",
   "metadata": {},
   "source": [
    "# Solverで解く"
   ]
  },
  {
   "cell_type": "code",
   "execution_count": 4,
   "metadata": {},
   "outputs": [
    {
     "name": "stdout",
     "output_type": "stream",
     "text": [
      "trots 22222\n",
      "panni 11222\n",
      "=== Win ===\n",
      "apple 00000\n"
     ]
    }
   ],
   "source": [
    "gm = GameMaster(\"apple\", words)\n",
    "solver = SimpleSolver(words)\n",
    "\n",
    "round = 6\n",
    "guess, hint = None, None\n",
    "for r in range(round):\n",
    "    guess = solver.guess(guess, hint)\n",
    "    hint = gm.check(guess)\n",
    "    print(guess, hint)\n",
    "    if gm.game_win:\n",
    "        break"
   ]
  },
  {
   "cell_type": "code",
   "execution_count": null,
   "metadata": {},
   "outputs": [],
   "source": []
  }
 ],
 "metadata": {
  "kernelspec": {
   "display_name": "Python 3",
   "language": "python",
   "name": "python3"
  },
  "language_info": {
   "codemirror_mode": {
    "name": "ipython",
    "version": 3
   },
   "file_extension": ".py",
   "mimetype": "text/x-python",
   "name": "python",
   "nbconvert_exporter": "python",
   "pygments_lexer": "ipython3",
   "version": "3.8.2"
  },
  "toc": {
   "base_numbering": 1,
   "nav_menu": {},
   "number_sections": true,
   "sideBar": true,
   "skip_h1_title": false,
   "title_cell": "Table of Contents",
   "title_sidebar": "Contents",
   "toc_cell": false,
   "toc_position": {},
   "toc_section_display": true,
   "toc_window_display": false
  }
 },
 "nbformat": 4,
 "nbformat_minor": 4
}
